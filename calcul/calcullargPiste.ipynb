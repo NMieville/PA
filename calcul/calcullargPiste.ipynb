{
 "cells": [
  {
   "cell_type": "code",
   "execution_count": 2,
   "metadata": {},
   "outputs": [],
   "source": [
    "import numpy as np"
   ]
  },
  {
   "cell_type": "code",
   "execution_count": 4,
   "metadata": {},
   "outputs": [
    {
     "name": "stdout",
     "output_type": "stream",
     "text": [
      "factor 0.10 : 0.55mm\n",
      "factor 0.15 : 0.78mm\n",
      "factor 0.20 : 1.00mm\n",
      "factor 0.25 : 1.20mm\n",
      "factor 0.30 : 1.38mm\n",
      "factor 0.35 : 1.56mm\n",
      "factor 0.40 : 1.71mm\n",
      "factor 0.45 : 1.86mm\n",
      "factor 0.50 : 2.00mm\n",
      "factor 0.55 : 2.13mm\n",
      "factor 0.60 : 2.25mm\n",
      "factor 0.65 : 2.36mm\n",
      "factor 0.70 : 2.47mm\n",
      "factor 0.75 : 2.57mm\n",
      "factor 0.80 : 2.67mm\n",
      "factor 0.85 : 2.76mm\n",
      "factor 0.90 : 2.84mm\n",
      "factor 0.95 : 2.92mm\n",
      "factor 1.00 : 3.00mm\n",
      "factor 1.05 : 3.07mm\n",
      "factor 1.10 : 3.14mm\n",
      "factor 1.15 : 3.21mm\n",
      "factor 1.20 : 3.27mm\n",
      "factor 1.25 : 3.33mm\n",
      "factor 1.30 : 3.39mm\n",
      "factor 1.35 : 3.45mm\n",
      "factor 1.40 : 3.50mm\n",
      "factor 1.45 : 3.55mm\n",
      "factor 1.50 : 3.60mm\n",
      "factor 1.55 : 3.65mm\n",
      "factor 1.60 : 3.69mm\n",
      "factor 1.65 : 3.74mm\n",
      "factor 1.70 : 3.78mm\n",
      "factor 1.75 : 3.82mm\n",
      "factor 1.80 : 3.86mm\n",
      "factor 1.85 : 3.89mm\n",
      "factor 1.90 : 3.93mm\n",
      "factor 1.95 : 3.97mm\n",
      "factor 2.00 : 4.00mm\n"
     ]
    }
   ],
   "source": [
    "larg_pcb = 60\n",
    "nb_pist = 10\n",
    "\n",
    "pistTot = larg_pcb/nb_pist\n",
    "\n",
    "factor = np.arange(0.1,2.05,0.05)\n",
    "\n",
    "dist = pistTot/(1+factor)\n",
    "ep = pistTot-dist\n",
    "\n",
    "for i in range(len(ep)):\n",
    "    print(\"factor %.2f : %.2fmm\"%(factor[i],ep[i]))"
   ]
  }
 ],
 "metadata": {
  "kernelspec": {
   "display_name": "Python 3",
   "language": "python",
   "name": "python3"
  },
  "language_info": {
   "codemirror_mode": {
    "name": "ipython",
    "version": 3
   },
   "file_extension": ".py",
   "mimetype": "text/x-python",
   "name": "python",
   "nbconvert_exporter": "python",
   "pygments_lexer": "ipython3",
   "version": "3.10.11"
  },
  "orig_nbformat": 4
 },
 "nbformat": 4,
 "nbformat_minor": 2
}
